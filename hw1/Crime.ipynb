{
 "cells": [
  {
   "cell_type": "markdown",
   "metadata": {},
   "source": [
    "# 刘东阳 3220200915"
   ]
  },
  {
   "cell_type": "markdown",
   "metadata": {},
   "source": [
    "# 数据集：Oakland Crime Statistics 2011 to 2016"
   ]
  },
  {
   "cell_type": "markdown",
   "metadata": {},
   "source": [
    "### Github地址：https://github.com/lucien1998/DataMingLDY"
   ]
  },
  {
   "cell_type": "code",
   "execution_count": 1,
   "metadata": {},
   "outputs": [],
   "source": [
    "import seaborn as sns\n",
    "import numpy as np\n",
    "import pandas as pd\n",
    "from matplotlib import pyplot as plt\n",
    "from sklearn.ensemble import RandomForestRegressor\n",
    "from fancyimpute import KNN\n",
    "crime_data = pd.read_csv('records-for-2011.csv')"
   ]
  },
  {
   "cell_type": "markdown",
   "metadata": {},
   "source": [
    "# 3.1 数据可视化和摘要"
   ]
  },
  {
   "cell_type": "markdown",
   "metadata": {},
   "source": [
    "## 3.1.1 数据摘要"
   ]
  },
  {
   "cell_type": "markdown",
   "metadata": {},
   "source": [
    "### 3.1.1（1）标称属性："
   ]
  },
  {
   "cell_type": "code",
   "execution_count": 2,
   "metadata": {},
   "outputs": [
    {
     "name": "stdout",
     "output_type": "stream",
     "text": [
      "OP    180015\n",
      "Name: Agency, dtype: int64\n"
     ]
    }
   ],
   "source": [
    "# Agency(每个可能取值的频数)\n",
    "print(crime_data['Agency'].value_counts())"
   ]
  },
  {
   "cell_type": "code",
   "execution_count": 3,
   "metadata": {},
   "outputs": [
    {
     "name": "stdout",
     "output_type": "stream",
     "text": [
      " INTERNATIONAL BLVD           3866\n",
      " MACARTHUR BLVD               3129\n",
      " AV&INTERNATIONAL BLVD        3067\n",
      " BROADWAY                     2132\n",
      " FOOTHILL BLVD                1791\n",
      "                              ... \n",
      "APGAR RIDGEMONT DR               1\n",
      "CALDERWOOD HEGENBERGER RD        1\n",
      "78TH AV&NB I880                  1\n",
      "73RD VIRGINIA AV                 1\n",
      "COOLIDGE E 31ST ST               1\n",
      "Name: Location, Length: 32505, dtype: int64\n"
     ]
    }
   ],
   "source": [
    "# Location(每个可能取值的频数)\n",
    "print(crime_data['Location'].value_counts())"
   ]
  },
  {
   "cell_type": "code",
   "execution_count": 4,
   "metadata": {},
   "outputs": [
    {
     "name": "stdout",
     "output_type": "stream",
     "text": [
      "04X     7410\n",
      "08X     6885\n",
      "26Y     5478\n",
      "30Y     5295\n",
      "06X     5119\n",
      "23X     5051\n",
      "30X     4956\n",
      "19X     4955\n",
      "34X     4673\n",
      "29X     4483\n",
      "20X     4287\n",
      "27Y     4159\n",
      "07X     4134\n",
      "31Y     4082\n",
      "25X     4022\n",
      "35X     3880\n",
      "33X     3849\n",
      "03X     3819\n",
      "32X     3711\n",
      "27X     3703\n",
      "09X     3630\n",
      "21Y     3435\n",
      "32Y     3125\n",
      "22X     3061\n",
      "26X     2978\n",
      "02Y     2970\n",
      "10X     2967\n",
      "14X     2733\n",
      "03Y     2726\n",
      "22Y     2664\n",
      "12Y     2651\n",
      "05X     2633\n",
      "02X     2614\n",
      "31X     2603\n",
      "21X     2593\n",
      "17Y     2582\n",
      "24Y     2575\n",
      "13Z     2546\n",
      "15X     2509\n",
      "24X     2459\n",
      "12X     2422\n",
      "10Y     2383\n",
      "01X     2210\n",
      "28X     2191\n",
      "17X     2133\n",
      "11X     2087\n",
      "13Y     2017\n",
      "35Y     1956\n",
      "31Z     1870\n",
      "18Y     1778\n",
      "16Y     1561\n",
      "14Y     1492\n",
      "25Y     1482\n",
      "13X     1122\n",
      "18X     1063\n",
      "16X      994\n",
      "05Y      710\n",
      "PDT2      20\n",
      "Name: Beat, dtype: int64\n"
     ]
    }
   ],
   "source": [
    "# Beat(每个可能取值的频数)\n",
    "print(crime_data['Beat'].value_counts())"
   ]
  },
  {
   "cell_type": "code",
   "execution_count": 5,
   "metadata": {},
   "outputs": [
    {
     "name": "stdout",
     "output_type": "stream",
     "text": [
      "933R      17348\n",
      "911H      12817\n",
      "SECCK     11393\n",
      "415       10752\n",
      "10851      7180\n",
      "          ...  \n",
      "140           1\n",
      "591           1\n",
      "970A          1\n",
      "MTHLAB        1\n",
      "148           1\n",
      "Name: Incident Type Id, Length: 263, dtype: int64\n"
     ]
    }
   ],
   "source": [
    "# Incident Type Id(每个可能取值的频数)\n",
    "print(crime_data['Incident Type Id'].value_counts())"
   ]
  },
  {
   "cell_type": "code",
   "execution_count": 6,
   "metadata": {},
   "outputs": [
    {
     "name": "stdout",
     "output_type": "stream",
     "text": [
      "ALARM-RINGER            17348\n",
      "911 HANG-UP             12817\n",
      "SECURITY CHECK          11393\n",
      "STOLEN VEHICLE           7180\n",
      "415 UNKNOWN              6624\n",
      "                        ...  \n",
      "OBSTRUCTING JUSTICE-        1\n",
      "INTERFERE WITH POWER        1\n",
      "CONSPIRACY COURT ORD        1\n",
      "PACIFIC GAS AND ELEC        1\n",
      "VEHICLE PARKED ON SI        1\n",
      "Name: Incident Type Description, Length: 265, dtype: int64\n"
     ]
    }
   ],
   "source": [
    "# Incident Type Description(每个可能取值的频数)\n",
    "print(crime_data['Incident Type Description'].value_counts())"
   ]
  },
  {
   "cell_type": "markdown",
   "metadata": {},
   "source": [
    "### 3.1.1（2）数值属性（五数概括、缺失值个数）：points，price"
   ]
  },
  {
   "cell_type": "code",
   "execution_count": 7,
   "metadata": {},
   "outputs": [
    {
     "data": {
      "text/html": [
       "<div>\n",
       "<style scoped>\n",
       "    .dataframe tbody tr th:only-of-type {\n",
       "        vertical-align: middle;\n",
       "    }\n",
       "\n",
       "    .dataframe tbody tr th {\n",
       "        vertical-align: top;\n",
       "    }\n",
       "\n",
       "    .dataframe thead th {\n",
       "        text-align: right;\n",
       "    }\n",
       "</style>\n",
       "<table border=\"1\" class=\"dataframe\">\n",
       "  <thead>\n",
       "    <tr style=\"text-align: right;\">\n",
       "      <th></th>\n",
       "      <th>Area Id</th>\n",
       "      <th>Priority</th>\n",
       "    </tr>\n",
       "  </thead>\n",
       "  <tbody>\n",
       "    <tr>\n",
       "      <th>count</th>\n",
       "      <td>179112.000000</td>\n",
       "      <td>180015.000000</td>\n",
       "    </tr>\n",
       "    <tr>\n",
       "      <th>mean</th>\n",
       "      <td>1.740648</td>\n",
       "      <td>1.796111</td>\n",
       "    </tr>\n",
       "    <tr>\n",
       "      <th>std</th>\n",
       "      <td>0.746468</td>\n",
       "      <td>0.402916</td>\n",
       "    </tr>\n",
       "    <tr>\n",
       "      <th>min</th>\n",
       "      <td>1.000000</td>\n",
       "      <td>0.000000</td>\n",
       "    </tr>\n",
       "    <tr>\n",
       "      <th>25%</th>\n",
       "      <td>1.000000</td>\n",
       "      <td>2.000000</td>\n",
       "    </tr>\n",
       "    <tr>\n",
       "      <th>50%</th>\n",
       "      <td>2.000000</td>\n",
       "      <td>2.000000</td>\n",
       "    </tr>\n",
       "    <tr>\n",
       "      <th>75%</th>\n",
       "      <td>2.000000</td>\n",
       "      <td>2.000000</td>\n",
       "    </tr>\n",
       "    <tr>\n",
       "      <th>max</th>\n",
       "      <td>3.000000</td>\n",
       "      <td>2.000000</td>\n",
       "    </tr>\n",
       "  </tbody>\n",
       "</table>\n",
       "</div>"
      ],
      "text/plain": [
       "             Area Id       Priority\n",
       "count  179112.000000  180015.000000\n",
       "mean        1.740648       1.796111\n",
       "std         0.746468       0.402916\n",
       "min         1.000000       0.000000\n",
       "25%         1.000000       2.000000\n",
       "50%         2.000000       2.000000\n",
       "75%         2.000000       2.000000\n",
       "max         3.000000       2.000000"
      ]
     },
     "execution_count": 7,
     "metadata": {},
     "output_type": "execute_result"
    }
   ],
   "source": [
    "#五数概括\n",
    "crime_data.describe()"
   ]
  },
  {
   "cell_type": "code",
   "execution_count": 8,
   "metadata": {},
   "outputs": [
    {
     "name": "stdout",
     "output_type": "stream",
     "text": [
      "<class 'pandas.core.frame.DataFrame'>\n",
      "RangeIndex: 180016 entries, 0 to 180015\n",
      "Data columns (total 10 columns):\n",
      " #   Column                     Non-Null Count   Dtype  \n",
      "---  ------                     --------------   -----  \n",
      " 0   Agency                     180015 non-null  object \n",
      " 1   Create Time                180015 non-null  object \n",
      " 2   Location                   180016 non-null  object \n",
      " 3   Area Id                    179112 non-null  float64\n",
      " 4   Beat                       179496 non-null  object \n",
      " 5   Priority                   180015 non-null  float64\n",
      " 6   Incident Type Id           180015 non-null  object \n",
      " 7   Incident Type Description  180015 non-null  object \n",
      " 8   Event Number               180015 non-null  object \n",
      " 9   Closed Time                180009 non-null  object \n",
      "dtypes: float64(2), object(8)\n",
      "memory usage: 13.7+ MB\n"
     ]
    }
   ],
   "source": [
    "#缺失值个数\n",
    "crime_data.info()"
   ]
  },
  {
   "cell_type": "markdown",
   "metadata": {},
   "source": [
    "由结果可知，总计180015条数据。<br>Area ID缺失值的个数为903。<br>Beat缺失值的个数为519。<br>CloseTime缺失值的个数为6。<br>其他数据缺失值的个数为0。"
   ]
  },
  {
   "cell_type": "markdown",
   "metadata": {},
   "source": [
    "## 3.1.2 数据可视化"
   ]
  },
  {
   "cell_type": "markdown",
   "metadata": {},
   "source": [
    "### 3.1.2（1）直方图（数据分布）"
   ]
  },
  {
   "cell_type": "code",
   "execution_count": 9,
   "metadata": {},
   "outputs": [
    {
     "data": {
      "image/png": "[encoded data removed]",
      "text/plain": [
       "<Figure size 360x360 with 1 Axes>"
      ]
     },
     "metadata": {
      "needs_background": "light"
     },
     "output_type": "display_data"
    },
    {
     "data": {
      "image/png": "[encoded data removed]",
      "text/plain": [
       "<Figure size 360x360 with 1 Axes>"
      ]
     },
     "metadata": {
      "needs_background": "light"
     },
     "output_type": "display_data"
    }
   ],
   "source": [
    "sns.displot(crime_data['Area Id'])\n",
    "plt.show()\n",
    "sns.displot(crime_data['Priority'])\n",
    "plt.show()"
   ]
  },
  {
   "cell_type": "markdown",
   "metadata": {},
   "source": [
    "### 3.1.2（2）盒图（离群点）"
   ]
  },
  {
   "cell_type": "code",
   "execution_count": 10,
   "metadata": {},
   "outputs": [
    {
     "data": {
      "image/png": "[encoded data removed]",
      "text/plain": [
       "<Figure size 432x288 with 1 Axes>"
      ]
     },
     "metadata": {
      "needs_background": "light"
     },
     "output_type": "display_data"
    },
    {
     "data": {
      "image/png": "[encoded data removed]",
      "text/plain": [
       "<Figure size 432x288 with 1 Axes>"
      ]
     },
     "metadata": {
      "needs_background": "light"
     },
     "output_type": "display_data"
    }
   ],
   "source": [
    "sns.boxplot(data=crime_data['Area Id'])\n",
    "plt.show()\n",
    "sns.boxplot(data=crime_data['Priority'])\n",
    "plt.show()"
   ]
  },
  {
   "cell_type": "markdown",
   "metadata": {},
   "source": [
    "# 3.2 数据缺失的处理"
   ]
  },
  {
   "cell_type": "markdown",
   "metadata": {},
   "source": [
    "\n",
    "分析数据缺失原因：数据库进行数据写入时数据丢失，或者数据本身就是缺失数据，没有被统计到。<br>\n",
    "因只有area_id有缺失值，这里只处理area_id，对于标称型数据，以Beat为例，通过用最高频率值的方式来进行填充\n"
   ]
  },
  {
   "cell_type": "markdown",
   "metadata": {},
   "source": [
    "## 3.2.1 将缺失部分剔除"
   ]
  },
  {
   "cell_type": "code",
   "execution_count": 11,
   "metadata": {
    "scrolled": true
   },
   "outputs": [
    {
     "name": "stdout",
     "output_type": "stream",
     "text": [
      "（1）处理前\n",
      "\n"
     ]
    },
    {
     "data": {
      "image/png": "[encoded data removed]",
      "text/plain": [
       "<Figure size 360x360 with 6 Axes>"
      ]
     },
     "metadata": {
      "needs_background": "light"
     },
     "output_type": "display_data"
    },
    {
     "name": "stdout",
     "output_type": "stream",
     "text": [
      "0         1.0\n",
      "1         1.0\n",
      "2         1.0\n",
      "3         2.0\n",
      "4         2.0\n",
      "         ... \n",
      "180011    2.0\n",
      "180012    1.0\n",
      "180013    1.0\n",
      "180014    2.0\n",
      "180015    NaN\n",
      "Name: Area Id, Length: 180016, dtype: float64\n",
      "-----------------------------------------------------------------------\n",
      "\n",
      "（2）处理后\n",
      "\n"
     ]
    },
    {
     "data": {
      "image/png": "[encoded data removed]",
      "text/plain": [
       "<Figure size 360x360 with 6 Axes>"
      ]
     },
     "metadata": {
      "needs_background": "light"
     },
     "output_type": "display_data"
    },
    {
     "name": "stdout",
     "output_type": "stream",
     "text": [
      "0         1.0\n",
      "1         1.0\n",
      "2         1.0\n",
      "3         2.0\n",
      "4         2.0\n",
      "         ... \n",
      "180010    1.0\n",
      "180011    2.0\n",
      "180012    1.0\n",
      "180013    1.0\n",
      "180014    2.0\n",
      "Name: Area Id, Length: 178771, dtype: float64\n"
     ]
    }
   ],
   "source": [
    "print(\"（1）处理前\\n\")\n",
    "sns.pairplot(crime_data, vars=[\"Area Id\", \"Priority\"])\n",
    "plt.show()\n",
    "print(crime_data['Area Id'])\n",
    "print(\"-----------------------------------------------------------------------\\n\")\n",
    "print(\"（2）处理后\\n\")\n",
    "crime_data_after = crime_data.dropna()\n",
    "sns.pairplot(crime_data_after, vars=[\"Area Id\", \"Priority\"])\n",
    "plt.show()\n",
    "print(crime_data_after['Area Id'])"
   ]
  },
  {
   "cell_type": "markdown",
   "metadata": {},
   "source": [
    "##  3.2.2 用最高频率值来填补缺失值"
   ]
  },
  {
   "cell_type": "code",
   "execution_count": 12,
   "metadata": {},
   "outputs": [
    {
     "name": "stdout",
     "output_type": "stream",
     "text": [
      "（1）处理前\n",
      "\n"
     ]
    },
    {
     "data": {
      "image/png": "[encoded data removed]",
      "text/plain": [
       "<Figure size 360x360 with 6 Axes>"
      ]
     },
     "metadata": {
      "needs_background": "light"
     },
     "output_type": "display_data"
    },
    {
     "name": "stdout",
     "output_type": "stream",
     "text": [
      "0         1.0\n",
      "1         1.0\n",
      "2         1.0\n",
      "3         2.0\n",
      "4         2.0\n",
      "         ... \n",
      "180011    2.0\n",
      "180012    1.0\n",
      "180013    1.0\n",
      "180014    2.0\n",
      "180015    NaN\n",
      "Name: Area Id, Length: 180016, dtype: float64\n",
      "\n",
      "===================\n",
      "\n",
      "<class 'pandas.core.frame.DataFrame'>\n",
      "RangeIndex: 180016 entries, 0 to 180015\n",
      "Data columns (total 10 columns):\n",
      " #   Column                     Non-Null Count   Dtype  \n",
      "---  ------                     --------------   -----  \n",
      " 0   Agency                     180015 non-null  object \n",
      " 1   Create Time                180015 non-null  object \n",
      " 2   Location                   180016 non-null  object \n",
      " 3   Area Id                    179112 non-null  float64\n",
      " 4   Beat                       179496 non-null  object \n",
      " 5   Priority                   180015 non-null  float64\n",
      " 6   Incident Type Id           180015 non-null  object \n",
      " 7   Incident Type Description  180015 non-null  object \n",
      " 8   Event Number               180015 non-null  object \n",
      " 9   Closed Time                180009 non-null  object \n",
      "dtypes: float64(2), object(8)\n",
      "memory usage: 13.7+ MB\n",
      "-----------------------------------------------------------------------\n",
      "\n",
      "（2）处理后\n",
      "\n"
     ]
    },
    {
     "data": {
      "image/png": "[encoded data removed]",
      "text/plain": [
       "<Figure size 360x360 with 6 Axes>"
      ]
     },
     "metadata": {
      "needs_background": "light"
     },
     "output_type": "display_data"
    },
    {
     "name": "stdout",
     "output_type": "stream",
     "text": [
      "0         1.0\n",
      "1         1.0\n",
      "2         1.0\n",
      "3         2.0\n",
      "4         2.0\n",
      "         ... \n",
      "180011    2.0\n",
      "180012    1.0\n",
      "180013    1.0\n",
      "180014    2.0\n",
      "180015    1.0\n",
      "Name: Area Id, Length: 180016, dtype: float64\n",
      "\n",
      "===================\n",
      "\n",
      "<class 'pandas.core.frame.DataFrame'>\n",
      "RangeIndex: 180016 entries, 0 to 180015\n",
      "Data columns (total 10 columns):\n",
      " #   Column                     Non-Null Count   Dtype  \n",
      "---  ------                     --------------   -----  \n",
      " 0   Agency                     180015 non-null  object \n",
      " 1   Create Time                180015 non-null  object \n",
      " 2   Location                   180016 non-null  object \n",
      " 3   Area Id                    180016 non-null  float64\n",
      " 4   Beat                       180016 non-null  object \n",
      " 5   Priority                   180015 non-null  float64\n",
      " 6   Incident Type Id           180015 non-null  object \n",
      " 7   Incident Type Description  180015 non-null  object \n",
      " 8   Event Number               180015 non-null  object \n",
      " 9   Closed Time                180009 non-null  object \n",
      "dtypes: float64(2), object(8)\n",
      "memory usage: 13.7+ MB\n"
     ]
    }
   ],
   "source": [
    "print(\"（1）处理前\\n\")\n",
    "crime_data2 = crime_data.copy(deep=True)\n",
    "sns.pairplot(crime_data2, vars=[\"Area Id\",\"Priority\"])\n",
    "plt.show()\n",
    "print(crime_data2['Area Id'])\n",
    "print(\"\\n===================\\n\")\n",
    "crime_data2.info()\n",
    "print(\"-----------------------------------------------------------------------\\n\")\n",
    "print(\"（2）处理后\\n\")\n",
    "crime_data2['Area Id'].fillna(crime_data2['Area Id'].mode().iloc[0],inplace=True)\n",
    "crime_data2['Beat'].fillna(crime_data2['Beat'].mode().iloc[0],inplace=True)\n",
    "sns.pairplot(crime_data2, vars=[\"Area Id\",\"Priority\"])\n",
    "plt.show()\n",
    "print(crime_data2['Area Id'])\n",
    "print(\"\\n===================\\n\")\n",
    "crime_data2.info()\n"
   ]
  },
  {
   "cell_type": "markdown",
   "metadata": {},
   "source": [
    "## 3.2.3 通过属性的相关关系来填补缺失值"
   ]
  },
  {
   "cell_type": "code",
   "execution_count": 13,
   "metadata": {},
   "outputs": [
    {
     "name": "stdout",
     "output_type": "stream",
     "text": [
      "（1）处理前\n",
      "\n"
     ]
    },
    {
     "data": {
      "image/png": "[encoded data removed]",
      "text/plain": [
       "<Figure size 360x360 with 6 Axes>"
      ]
     },
     "metadata": {
      "needs_background": "light"
     },
     "output_type": "display_data"
    },
    {
     "name": "stdout",
     "output_type": "stream",
     "text": [
      "0         1.0\n",
      "1         1.0\n",
      "2         1.0\n",
      "3         2.0\n",
      "4         2.0\n",
      "         ... \n",
      "119995    1.0\n",
      "119996    1.0\n",
      "119997    2.0\n",
      "119998    1.0\n",
      "119999    1.0\n",
      "Name: Area Id, Length: 120000, dtype: float64\n",
      "-----------------------------------------------------------------------\n",
      "\n",
      "（2）处理后\n",
      "\n"
     ]
    },
    {
     "name": "stderr",
     "output_type": "stream",
     "text": [
      "d:\\anaconda\\envs\\python373\\lib\\site-packages\\pandas\\core\\indexing.py:1676: SettingWithCopyWarning: \n",
      "A value is trying to be set on a copy of a slice from a DataFrame.\n",
      "Try using .loc[row_indexer,col_indexer] = value instead\n",
      "\n",
      "See the caveats in the documentation: https://pandas.pydata.org/pandas-docs/stable/user_guide/indexing.html#returning-a-view-versus-a-copy\n",
      "  self._setitem_single_column(ilocs[0], value, pi)\n"
     ]
    },
    {
     "data": {
      "image/png": "[encoded data removed]",
      "text/plain": [
       "<Figure size 360x360 with 6 Axes>"
      ]
     },
     "metadata": {
      "needs_background": "light"
     },
     "output_type": "display_data"
    },
    {
     "name": "stdout",
     "output_type": "stream",
     "text": [
      "0         1.0\n",
      "1         1.0\n",
      "2         1.0\n",
      "3         2.0\n",
      "4         2.0\n",
      "         ... \n",
      "119995    1.0\n",
      "119996    1.0\n",
      "119997    2.0\n",
      "119998    1.0\n",
      "119999    1.0\n",
      "Name: AreaId, Length: 120000, dtype: float64\n"
     ]
    }
   ],
   "source": [
    "crime_dataY = pd.read_csv('records-for-2011-.csv')\n",
    "crime_dataX = crime_dataY.copy(deep=True)\n",
    "print(\"（1）处理前\\n\")\n",
    "crime_data3 = crime_data.copy(deep=True)[:120000]\n",
    "sns.pairplot(crime_data3, vars=[\"Area Id\",\"Priority\"])\n",
    "plt.show()\n",
    "print(crime_data3['Area Id'])\n",
    "print(\"-----------------------------------------------------------------------\\n\")\n",
    "print(\"（2）处理后\\n\")\n",
    "def set_missing_AreaIds(df):\n",
    "    # 把数值型特征都放到随机森林里面去\n",
    "    AreaId_df = df[['AreaId', 'Priority']]\n",
    "    known_AreaId = AreaId_df[AreaId_df.AreaId.notnull()].iloc[:,:].values\n",
    "    unknown_AreaId = AreaId_df[AreaId_df.AreaId.isnull()].iloc[:,:].values\n",
    "    y = known_AreaId[:, 0]  # y是AreaId，第一列数据\n",
    "    x = known_AreaId[:, 1:]  # x是特征属性值，后面几列\n",
    "    rfr = RandomForestRegressor(random_state=0, n_estimators=2000, n_jobs=-1)\n",
    "    # 根据已有数据去拟合随机森林模型\n",
    "    rfr.fit(x, y)\n",
    "    # 预测缺失值\n",
    "    predictedAreaIds = rfr.predict(unknown_AreaId[:, 1:])\n",
    "    # 填补缺失值\n",
    "    df.loc[(df.AreaId.isnull()), 'AreaId'] = predictedAreaIds\n",
    "    return df\n",
    "crime_dataX = set_missing_AreaIds(crime_dataX[:120000])\n",
    "sns.pairplot(crime_dataX, vars=[\"AreaId\",\"Priority\"])\n",
    "plt.show()\n",
    "print(crime_dataX['AreaId'])"
   ]
  },
  {
   "cell_type": "markdown",
   "metadata": {},
   "source": [
    "## 3.2.4 通过数据对象之间的相似性来填补缺失值"
   ]
  },
  {
   "cell_type": "code",
   "execution_count": 14,
   "metadata": {},
   "outputs": [
    {
     "name": "stdout",
     "output_type": "stream",
     "text": [
      "（1）处理前\n",
      "\n"
     ]
    },
    {
     "data": {
      "image/png": "[encoded data removed]",
      "text/plain": [
       "<Figure size 360x360 with 6 Axes>"
      ]
     },
     "metadata": {
      "needs_background": "light"
     },
     "output_type": "display_data"
    },
    {
     "name": "stdout",
     "output_type": "stream",
     "text": [
      "0         1.0\n",
      "1         1.0\n",
      "2         1.0\n",
      "3         2.0\n",
      "4         2.0\n",
      "         ... \n",
      "180011    2.0\n",
      "180012    1.0\n",
      "180013    1.0\n",
      "180014    2.0\n",
      "180015    NaN\n",
      "Name: Area Id, Length: 180016, dtype: float64\n",
      "-----------------------------------------------------------------------\n",
      "\n",
      "（2）处理后\n",
      "\n",
      "Imputing row 1/10000 with 0 missing, elapsed time: 18.527\n",
      "Imputing row 101/10000 with 0 missing, elapsed time: 18.531\n",
      "Imputing row 201/10000 with 0 missing, elapsed time: 18.535\n",
      "Imputing row 301/10000 with 0 missing, elapsed time: 18.538\n",
      "Imputing row 401/10000 with 0 missing, elapsed time: 18.545\n",
      "Imputing row 501/10000 with 0 missing, elapsed time: 18.549\n",
      "Imputing row 601/10000 with 0 missing, elapsed time: 18.551\n",
      "Imputing row 701/10000 with 0 missing, elapsed time: 18.553\n",
      "Imputing row 801/10000 with 0 missing, elapsed time: 18.557\n",
      "Imputing row 901/10000 with 0 missing, elapsed time: 18.559\n",
      "Imputing row 1001/10000 with 0 missing, elapsed time: 18.561\n",
      "Imputing row 1101/10000 with 0 missing, elapsed time: 18.563\n",
      "Imputing row 1201/10000 with 0 missing, elapsed time: 18.606\n",
      "Imputing row 1301/10000 with 0 missing, elapsed time: 18.608\n",
      "Imputing row 1401/10000 with 0 missing, elapsed time: 18.611\n",
      "Imputing row 1501/10000 with 0 missing, elapsed time: 18.613\n",
      "Imputing row 1601/10000 with 0 missing, elapsed time: 18.615\n",
      "Imputing row 1701/10000 with 0 missing, elapsed time: 18.618\n",
      "Imputing row 1801/10000 with 0 missing, elapsed time: 18.624\n",
      "Imputing row 1901/10000 with 0 missing, elapsed time: 18.627\n",
      "Imputing row 2001/10000 with 0 missing, elapsed time: 18.631\n",
      "Imputing row 2101/10000 with 0 missing, elapsed time: 18.640\n",
      "Imputing row 2201/10000 with 0 missing, elapsed time: 18.642\n",
      "Imputing row 2301/10000 with 0 missing, elapsed time: 18.644\n",
      "Imputing row 2401/10000 with 0 missing, elapsed time: 18.646\n",
      "Imputing row 2501/10000 with 0 missing, elapsed time: 18.648\n",
      "Imputing row 2601/10000 with 0 missing, elapsed time: 18.650\n",
      "Imputing row 2701/10000 with 0 missing, elapsed time: 18.651\n",
      "Imputing row 2801/10000 with 0 missing, elapsed time: 18.651\n",
      "Imputing row 2901/10000 with 0 missing, elapsed time: 18.653\n",
      "Imputing row 3001/10000 with 0 missing, elapsed time: 18.654\n",
      "Imputing row 3101/10000 with 0 missing, elapsed time: 18.655\n",
      "Imputing row 3201/10000 with 0 missing, elapsed time: 18.656\n",
      "Imputing row 3301/10000 with 0 missing, elapsed time: 18.656\n",
      "Imputing row 3401/10000 with 0 missing, elapsed time: 18.658\n",
      "Imputing row 3501/10000 with 0 missing, elapsed time: 18.659\n",
      "Imputing row 3601/10000 with 0 missing, elapsed time: 18.664\n",
      "Imputing row 3701/10000 with 0 missing, elapsed time: 18.666\n",
      "Imputing row 3801/10000 with 0 missing, elapsed time: 18.669\n",
      "Imputing row 3901/10000 with 0 missing, elapsed time: 18.670\n",
      "Imputing row 4001/10000 with 0 missing, elapsed time: 18.671\n",
      "Imputing row 4101/10000 with 0 missing, elapsed time: 18.672\n",
      "Imputing row 4201/10000 with 0 missing, elapsed time: 18.673\n",
      "Imputing row 4301/10000 with 0 missing, elapsed time: 18.675\n",
      "Imputing row 4401/10000 with 0 missing, elapsed time: 18.676\n",
      "Imputing row 4501/10000 with 0 missing, elapsed time: 18.676\n",
      "Imputing row 4601/10000 with 0 missing, elapsed time: 18.679\n",
      "Imputing row 4701/10000 with 0 missing, elapsed time: 18.681\n",
      "Imputing row 4801/10000 with 0 missing, elapsed time: 18.688\n",
      "Imputing row 4901/10000 with 0 missing, elapsed time: 18.690\n",
      "Imputing row 5001/10000 with 0 missing, elapsed time: 18.692\n",
      "Imputing row 5101/10000 with 0 missing, elapsed time: 18.695\n",
      "Imputing row 5201/10000 with 0 missing, elapsed time: 18.699\n",
      "Imputing row 5301/10000 with 0 missing, elapsed time: 18.701\n",
      "Imputing row 5401/10000 with 0 missing, elapsed time: 18.703\n",
      "Imputing row 5501/10000 with 0 missing, elapsed time: 18.706\n",
      "Imputing row 5601/10000 with 0 missing, elapsed time: 18.708\n",
      "Imputing row 5701/10000 with 0 missing, elapsed time: 18.710\n",
      "Imputing row 5801/10000 with 0 missing, elapsed time: 18.714\n",
      "Imputing row 5901/10000 with 0 missing, elapsed time: 18.717\n",
      "Imputing row 6001/10000 with 0 missing, elapsed time: 18.740\n",
      "Imputing row 6101/10000 with 0 missing, elapsed time: 18.743\n",
      "Imputing row 6201/10000 with 0 missing, elapsed time: 18.751\n",
      "Imputing row 6301/10000 with 0 missing, elapsed time: 18.753\n",
      "Imputing row 6401/10000 with 0 missing, elapsed time: 18.755\n",
      "Imputing row 6501/10000 with 0 missing, elapsed time: 18.763\n",
      "Imputing row 6601/10000 with 0 missing, elapsed time: 18.766\n",
      "Imputing row 6701/10000 with 0 missing, elapsed time: 18.771\n",
      "Imputing row 6801/10000 with 0 missing, elapsed time: 18.774\n",
      "Imputing row 6901/10000 with 0 missing, elapsed time: 18.778\n",
      "Imputing row 7001/10000 with 0 missing, elapsed time: 18.781\n",
      "Imputing row 7101/10000 with 0 missing, elapsed time: 18.785\n",
      "Imputing row 7201/10000 with 0 missing, elapsed time: 18.795\n",
      "Imputing row 7301/10000 with 0 missing, elapsed time: 18.797\n",
      "Imputing row 7401/10000 with 0 missing, elapsed time: 18.800\n",
      "Imputing row 7501/10000 with 0 missing, elapsed time: 18.802\n",
      "Imputing row 7601/10000 with 0 missing, elapsed time: 18.820\n",
      "Imputing row 7701/10000 with 0 missing, elapsed time: 18.828\n",
      "Imputing row 7801/10000 with 0 missing, elapsed time: 18.831\n",
      "Imputing row 7901/10000 with 0 missing, elapsed time: 18.833\n",
      "Imputing row 8001/10000 with 0 missing, elapsed time: 18.837\n",
      "Imputing row 8101/10000 with 0 missing, elapsed time: 18.840\n",
      "Imputing row 8201/10000 with 0 missing, elapsed time: 18.853\n",
      "Imputing row 8301/10000 with 0 missing, elapsed time: 18.858\n",
      "Imputing row 8401/10000 with 0 missing, elapsed time: 18.860\n",
      "Imputing row 8501/10000 with 0 missing, elapsed time: 18.863\n",
      "Imputing row 8601/10000 with 0 missing, elapsed time: 18.865\n",
      "Imputing row 8701/10000 with 0 missing, elapsed time: 18.868\n",
      "Imputing row 8801/10000 with 0 missing, elapsed time: 18.870\n",
      "Imputing row 8901/10000 with 0 missing, elapsed time: 18.873\n",
      "Imputing row 9001/10000 with 0 missing, elapsed time: 18.875\n",
      "Imputing row 9101/10000 with 0 missing, elapsed time: 18.878\n",
      "Imputing row 9201/10000 with 0 missing, elapsed time: 18.880\n",
      "Imputing row 9301/10000 with 0 missing, elapsed time: 18.892\n",
      "Imputing row 9401/10000 with 0 missing, elapsed time: 18.897\n",
      "Imputing row 9501/10000 with 0 missing, elapsed time: 18.905\n",
      "Imputing row 9601/10000 with 0 missing, elapsed time: 18.906\n",
      "Imputing row 9701/10000 with 0 missing, elapsed time: 18.907\n",
      "Imputing row 9801/10000 with 0 missing, elapsed time: 18.909\n",
      "Imputing row 9901/10000 with 0 missing, elapsed time: 18.912\n",
      "[[1. 1.]\n",
      " [1. 1.]\n",
      " [1. 2.]\n",
      " ...\n",
      " [3. 2.]\n",
      " [1. 2.]\n",
      " [3. 1.]]\n"
     ]
    }
   ],
   "source": [
    "print(\"（1）处理前\\n\")\n",
    "crime_data4 = crime_data.copy(deep=True)\n",
    "sns.pairplot(crime_data4, vars=[\"Area Id\",\"Priority\"])\n",
    "plt.show()\n",
    "print(crime_data4['Area Id'])\n",
    "print(\"-----------------------------------------------------------------------\\n\")\n",
    "print(\"（2）处理后\\n\")\n",
    "new_data = crime_data4[['Area Id', 'Priority']][:10000]\n",
    "fill_knn = KNN(k=3).fit_transform(new_data)\n",
    "print(fill_knn)"
   ]
  }
 ],
 "metadata": {
  "kernelspec": {
   "display_name": "Python 3",
   "language": "python",
   "name": "python3"
  },
  "language_info": {
   "codemirror_mode": {
    "name": "ipython",
    "version": 3
   },
   "file_extension": ".py",
   "mimetype": "text/x-python",
   "name": "python",
   "nbconvert_exporter": "python",
   "pygments_lexer": "ipython3",
   "version": "3.7.3"
  }
 },
 "nbformat": 4,
 "nbformat_minor": 4
}
